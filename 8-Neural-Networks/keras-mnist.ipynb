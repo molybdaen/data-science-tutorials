{
 "cells": [
  {
   "cell_type": "markdown",
   "metadata": {},
   "source": [
    "# Keras : Neural Networks using MNIST dataset #"
   ]
  },
  {
   "cell_type": "markdown",
   "metadata": {},
   "source": [
    "## Introduction\n",
    "\n",
    "A popular demonstration of the capability of deep learning techniques is object recognition in image data.\n",
    "In this notebook we are going to classify handwritten digits from the MNIST dataset (which is kind of the \"Hello World\" example for neural networks) using [KERAS](https://keras.io). It is based on a [tutorial](http://machinelearningmastery.com/handwritten-digit-recognition-using-convolutional-neural-networks-python-keras/) created by Dr. Jason Brownlee."
   ]
  },
  {
   "cell_type": "code",
   "execution_count": 22,
   "metadata": {
    "collapsed": true
   },
   "outputs": [],
   "source": [
    "# setup\n",
    "import matplotlib.pyplot as plt\n",
    "import numpy as np\n",
    "from scipy.special import expit\n",
    "\n",
    "np.random.seed(7)\n",
    "%matplotlib inline"
   ]
  },
  {
   "cell_type": "markdown",
   "metadata": {},
   "source": [
    "### Activation Function\n",
    "Among the most popular activation functions for neural networks are `linear`, `sigmoid`, `tangens hyperbolicus (tanh)` and `rectified linear (relu)` (see the plots below). We will use `relu` for the activation in the hidden layer. \n",
    "\n",
    "$$\n",
    "\\begin{align}\n",
    "linear(x) &= m \\cdot x + t \\\\\n",
    "sigmoid(x) &= \\frac{1}{1+e^{-x}} \\\\\n",
    "tanh(x) &= \\frac{e^x - e^{-x}}{e^x + e^{-x}}\\\\\n",
    "relu(x) &= max(x,0)\n",
    "\\end{align}\n",
    "$$"
   ]
  },
  {
   "cell_type": "code",
   "execution_count": 23,
   "metadata": {},
   "outputs": [
    {
     "data": {
      "image/png": "[encoded data removed]",
      "text/plain": [
       "<matplotlib.figure.Figure at 0x114670be0>"
      ]
     },
     "metadata": {},
     "output_type": "display_data"
    }
   ],
   "source": [
    "from scipy.special import expit\n",
    "\n",
    "x = np.arange(-10, 10,0.1)\n",
    "plt.figure(figsize=(16, 8))\n",
    "plt.subplot(4,4,1)\n",
    "plt.title('linear')\n",
    "plt.plot(x, 2*x+5)\n",
    "plt.subplot(4,4,2)\n",
    "plt.title('sigmoid')\n",
    "plt.plot(x, expit(x))\n",
    "plt.subplot(4,4,3)\n",
    "plt.title('tanh')\n",
    "plt.plot(x,np.tanh(x))\n",
    "plt.subplot(4,4,4)\n",
    "plt.title('relu')\n",
    "plt.plot(x,np.maximum(x,0))\n",
    "\n",
    "plt.show()"
   ]
  },
  {
   "cell_type": "markdown",
   "metadata": {},
   "source": [
    "### Output layer\n",
    "In the output layer, we will use the softmax function, which is a generalization of the logistic function.  \n",
    "\n",
    "$$\n",
    "P(C = j | x) = softmax(x)_j = \\frac{e^{x_j}}{\\sum_{k=1}^{K}e^{x_k}}\n",
    "$$\n",
    "\n",
    "It can be thougt of as the multiclass extension to the sigmoid and represents a probability distribution over K different classes. For a binary classifier, they resemble the same.\n",
    "<img src=\"./pics/softmax_sigmoid.png\"/>"
   ]
  },
  {
   "cell_type": "markdown",
   "metadata": {},
   "source": [
    "### Loss Function\n",
    "With a softmax in the output, the cross entropy is the usual loss function used and we will also do so.\n",
    "\n",
    "$$\n",
    "L(y,\\hat{y}) = - \\frac{1}{N} \\sum_{n \\in N} \\sum_{i \\in C} y_{n,i} \\log\\hat{y}_{n,i}\n",
    "$$"
   ]
  },
  {
   "cell_type": "markdown",
   "metadata": {},
   "source": [
    "## Dataset and Pre-Processing"
   ]
  },
  {
   "cell_type": "code",
   "execution_count": 24,
   "metadata": {},
   "outputs": [
    {
     "data": {
      "image/png": "[encoded data removed]",
      "text/plain": [
       "<matplotlib.figure.Figure at 0x1043a0860>"
      ]
     },
     "metadata": {},
     "output_type": "display_data"
    }
   ],
   "source": [
    "from keras.datasets import mnist \n",
    "# if you run into errors like \"ModuleNotFoundError: No module named 'tensorflow'\"\n",
    "# and you have installed keras via conda install, manually set the backend to 'theano'\n",
    "# in .keras/keras.json in your home directory (the conda installation seems to install theano by default)\n",
    "\n",
    "# load the MNIST dataset\n",
    "(X_train, y_train), (X_test, y_test) = mnist.load_data()\n",
    "# plot the first 4 images in the training set as gray scale\n",
    "plt.subplot(221)\n",
    "plt.imshow(X_train[0], cmap=plt.get_cmap('gray'))\n",
    "plt.subplot(222)\n",
    "plt.imshow(X_train[1], cmap=plt.get_cmap('gray'))\n",
    "plt.subplot(223)\n",
    "plt.imshow(X_train[2], cmap=plt.get_cmap('gray'))\n",
    "plt.subplot(224)\n",
    "plt.imshow(X_train[3], cmap=plt.get_cmap('gray'))\n",
    "# show the plot\n",
    "plt.show()"
   ]
  },
  {
   "cell_type": "markdown",
   "metadata": {},
   "source": [
    "The pixel values are our input to the neural network, therefore we flatten each sample to an array. Each entry will then be the input to a neuron in our first layer. To make this work, each row in the training data needs to be in the same shape as our input layer.  \n",
    "Further, we fix the precision of the pixel values to 32bit and normalize the inputs to the range [0,1]."
   ]
  },
  {
   "cell_type": "code",
   "execution_count": 25,
   "metadata": {
    "collapsed": true
   },
   "outputs": [],
   "source": [
    "# flatten\n",
    "num_pixels = X_train.shape[1] * X_train.shape[2]\n",
    "X_train = X_train.reshape(X_train.shape[0], num_pixels).astype('float32')\n",
    "X_test = X_test.reshape(X_test.shape[0], num_pixels).astype('float32')\n",
    "\n",
    "# normalize inputs from 0-255 to 0-1\n",
    "X_train = X_train / 255\n",
    "X_test = X_test / 255"
   ]
  },
  {
   "cell_type": "markdown",
   "metadata": {},
   "source": [
    "Finally, the output variable is an integer from 0 to 9. This is a multi-class classification problem. As such, it is good practice to use a one hot encoding of the class values, transforming the vector of class integers into a binary matrix. In our case, it is mandatory, since each neuron in the output layer will correspond to a class and predict its probability. Therefore, the target vectors (or rows in the matrix) need to be in the same shape as the output layer."
   ]
  },
  {
   "cell_type": "code",
   "execution_count": 26,
   "metadata": {},
   "outputs": [
    {
     "name": "stdout",
     "output_type": "stream",
     "text": [
      "[[ 0.  0.  0.  0.  0.  1.  0.  0.  0.  0.]\n",
      " [ 1.  0.  0.  0.  0.  0.  0.  0.  0.  0.]\n",
      " [ 0.  0.  0.  0.  1.  0.  0.  0.  0.  0.]]\n"
     ]
    }
   ],
   "source": [
    "from keras.utils import np_utils\n",
    "from sklearn.preprocessing import LabelBinarizer\n",
    "\n",
    "# one hot encode outputs\n",
    "y_train = np_utils.to_categorical(y_train)\n",
    "y_test = np_utils.to_categorical(y_test)\n",
    "num_classes = y_test.shape[1]\n",
    "print(y_train[:3])"
   ]
  },
  {
   "cell_type": "markdown",
   "metadata": {},
   "source": [
    "## Define the model\n",
    "We are now ready to create our neural network model. We will define our model in a function. This is handy if you want to extend the example later and try and get a better score.\n",
    "\n",
    "We define a model with a single hidden layer, which alreay achieves pretty decent results. As activation functions, we use `relu` in the hidden layer and `softmax` in the output layer. Our loss function is cross entropy."
   ]
  },
  {
   "cell_type": "code",
   "execution_count": 29,
   "metadata": {
    "collapsed": true
   },
   "outputs": [],
   "source": [
    "from keras.models import Sequential\n",
    "from keras.layers import Dense\n",
    "from keras.layers import Dropout\n",
    "\n",
    "\n",
    "# define baseline model\n",
    "def baseline_model():\n",
    "\t# create model\n",
    "\tmodel = Sequential()\n",
    "\tmodel.add(Dense(num_pixels, input_dim=num_pixels, init='normal', activation='relu'))\n",
    "\tmodel.add(Dense(num_classes, init='normal', activation='softmax'))\n",
    "\t# Compile model\n",
    "\tmodel.compile(loss='categorical_crossentropy', optimizer='rmsprop', metrics=['accuracy'])\n",
    "\treturn model"
   ]
  },
  {
   "cell_type": "markdown",
   "metadata": {},
   "source": [
    "## Training and evaluation\n",
    "Finally, we fit and evaluate the model"
   ]
  },
  {
   "cell_type": "code",
   "execution_count": 30,
   "metadata": {},
   "outputs": [
    {
     "name": "stderr",
     "output_type": "stream",
     "text": [
      "/Users/johannesjurgovsky/Work/Internals/Lehre/DataScience/venv/lib/python3.6/site-packages/ipykernel_launcher.py:10: UserWarning: Update your `Dense` call to the Keras 2 API: `Dense(784, input_dim=784, activation=\"relu\", kernel_initializer=\"normal\")`\n",
      "  # Remove the CWD from sys.path while we load stuff.\n",
      "/Users/johannesjurgovsky/Work/Internals/Lehre/DataScience/venv/lib/python3.6/site-packages/ipykernel_launcher.py:11: UserWarning: Update your `Dense` call to the Keras 2 API: `Dense(10, activation=\"softmax\", kernel_initializer=\"normal\")`\n",
      "  # This is added back by InteractiveShellApp.init_path()\n"
     ]
    },
    {
     "name": "stdout",
     "output_type": "stream",
     "text": [
      "Train on 60000 samples, validate on 10000 samples\n",
      "Epoch 1/10\n",
      "2s - loss: 0.2711 - acc: 0.9212 - val_loss: 0.1320 - val_acc: 0.9597\n",
      "Epoch 2/10\n",
      "2s - loss: 0.1048 - acc: 0.9690 - val_loss: 0.0884 - val_acc: 0.9723\n",
      "Epoch 3/10\n",
      "2s - loss: 0.0671 - acc: 0.9801 - val_loss: 0.0705 - val_acc: 0.9778\n",
      "Epoch 4/10\n",
      "2s - loss: 0.0474 - acc: 0.9854 - val_loss: 0.0684 - val_acc: 0.9787\n",
      "Epoch 5/10\n",
      "2s - loss: 0.0342 - acc: 0.9896 - val_loss: 0.0565 - val_acc: 0.9823\n",
      "Epoch 6/10\n",
      "3s - loss: 0.0256 - acc: 0.9925 - val_loss: 0.0601 - val_acc: 0.9819\n",
      "Epoch 7/10\n",
      "2s - loss: 0.0184 - acc: 0.9947 - val_loss: 0.0586 - val_acc: 0.9821\n",
      "Epoch 8/10\n",
      "2s - loss: 0.0140 - acc: 0.9959 - val_loss: 0.0659 - val_acc: 0.9817\n",
      "Epoch 9/10\n",
      "3s - loss: 0.0108 - acc: 0.9970 - val_loss: 0.0669 - val_acc: 0.9832\n",
      "Epoch 10/10\n",
      "3s - loss: 0.0077 - acc: 0.9981 - val_loss: 0.0648 - val_acc: 0.9828\n",
      "Baseline Error: 1.72%\n"
     ]
    }
   ],
   "source": [
    "# build the model\n",
    "model = baseline_model()\n",
    "# Fit the model\n",
    "model.fit(X_train, y_train, validation_data=(X_test, y_test), epochs=10, batch_size=200, verbose=2)\n",
    "# Final evaluation of the model\n",
    "scores = model.evaluate(X_test, y_test, verbose=0)\n",
    "print(\"Baseline Error: %.2f%%\" % (100-scores[1]*100))"
   ]
  },
  {
   "cell_type": "markdown",
   "metadata": {
    "collapsed": true
   },
   "source": [
    "We have used stochastic gradient descent (SGD) with the default parameters. However, there are advanced optimizers, such as Adagrad, RMSprop or Adam. Also, the performance of SGD can be improved by adding momentum. KERAS readily provides a bunch of [different optimizers](https://keras.io/optimizers/). You may for example exchange the SGD by Adam in our example to increase the performance.\n",
    "\n",
    "Although our classification results are already quite good, they can be further improved by more complex network architectures. For an example that utilizes convolution and pooling layers, take a look at the [source tutorial](http://machinelearningmastery.com/handwritten-digit-recognition-using-convolutional-neural-networks-python-keras/).\n",
    "\n",
    "The **[Neural Network Zoo](http://www.asimovinstitute.org/neural-network-zoo/)** provides a nice overview about the main network architectures. It contains short explanations for every architecture and a link to the original paper."
   ]
  }
 ],
 "metadata": {
  "anaconda-cloud": {},
  "kernelspec": {
   "display_name": "Python 3",
   "language": "python",
   "name": "python3"
  },
  "language_info": {
   "codemirror_mode": {
    "name": "ipython",
    "version": 3
   },
   "file_extension": ".py",
   "mimetype": "text/x-python",
   "name": "python",
   "nbconvert_exporter": "python",
   "pygments_lexer": "ipython3",
   "version": "3.6.1"
  },
  "toc": {
   "colors": {
    "hover_highlight": "#DAA520",
    "running_highlight": "#FF0000",
    "selected_highlight": "#FFD700"
   },
   "moveMenuLeft": true,
   "nav_menu": {
    "height": "78px",
    "width": "252px"
   },
   "navigate_menu": true,
   "number_sections": true,
   "sideBar": true,
   "threshold": 4,
   "toc_cell": false,
   "toc_section_display": "block",
   "toc_window_display": false,
   "widenNotebook": false
  }
 },
 "nbformat": 4,
 "nbformat_minor": 2
}
