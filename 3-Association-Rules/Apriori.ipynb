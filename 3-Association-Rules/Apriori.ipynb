{
 "cells": [
  {
   "cell_type": "markdown",
   "metadata": {},
   "source": [
    "# Unsupervised Learning: Association Rule Mining\n",
    "\n",
    "\n",
    "by [__Michael Granitzer__ (michael.granitzer@uni-passau.de)]( http://www.mendeley.com/profiles/michael-granitzer/) and [Konstantin Ziegler (konstantin.ziegler@uni-passau.de)](http://zieglerk.net) based on examples from the [scikit-learn documentation](http://scikit-learn.org/stable/)\n",
    "\n",
    "__License__\n",
    "\n",
    "This work is licensed under a [CC BY-SA 4.0](https://creativecommons.org/licenses/by-sa/4.0/)\n",
    "\n",
    "1. Turn the pseudo-code for the A-priori algorithm from the lecture into a quick-and-dirty implementation. (Efficiency is not crucial, because the dataset is not that large. Correctness is. An implementation with python lists should suffice, see the end of the notebook.)\n",
    "2. Use your algorithm from 1. on the dataset to find frequent itemsets. \n",
    "Note: The algorithm from the lecture runs only on binary features; So, you have to turn the numerical features into binaries, e.g. by comparison with the average.\n",
    "Note: This requires the choice of a suitable minimum support; in practice you don't know \"suitable\" in advance, so binary search the possible values for sigma until the number of frequent itemsets is easy for you to examine by hand.\n",
    "3. Bonus: Use the frequent itemsets of 2. to find strong association rules. Note: Analogously to 2., this requires the choice of a proper confidence. What is the best possible confidence that you can achieve?\n",
    "4. Bonus: Filter your association rules for correlation rules, e.g. using lift as correlation measure.\n",
    "5. Interpretation: Could the observed rule be an effect of a larger cause?"
   ]
  },
  {
   "cell_type": "markdown",
   "metadata": {},
   "source": [
    "# Implementation of the Apriori-Algorithm"
   ]
  },
  {
   "cell_type": "code",
   "execution_count": 31,
   "metadata": {
    "collapsed": true
   },
   "outputs": [],
   "source": [
    "# Example from the Lecture, slide 8\n",
    "names = ['milk', 'butter', 'coffee', 'cacao', 'cake', 'sugar', 'tea']\n",
    "X = [[1, 1, 0, 0, 0, 0, 0],\n",
    "     [1, 0, 1, 0, 1, 0, 0],\n",
    "     [1, 0, 0, 1, 1, 0, 0],\n",
    "     [0, 0, 1, 0, 0, 1, 1],\n",
    "     [1, 0, 1, 0, 0, 1, 0],\n",
    "     [0, 0, 0, 0, 0, 1, 1]]\n",
    "# Some 2-itemsets\n",
    "I1 = [0, 1]\n",
    "I2 = [1, 5]\n",
    "I3 = [0, 2]"
   ]
  },
  {
   "cell_type": "code",
   "execution_count": 32,
   "metadata": {},
   "outputs": [
    {
     "data": {
      "text/plain": [
       "True"
      ]
     },
     "execution_count": 32,
     "metadata": {},
     "output_type": "execute_result"
    }
   ],
   "source": [
    "x = X[1]\n",
    "all([x[j] == 1 for j in I3])"
   ]
  },
  {
   "cell_type": "code",
   "execution_count": 33,
   "metadata": {},
   "outputs": [
    {
     "name": "stdout",
     "output_type": "stream",
     "text": [
      "[[1, 1, 0, 0, 0, 0, 0]]\n",
      "[]\n",
      "[[1, 0, 1, 0, 1, 0, 0], [1, 0, 1, 0, 0, 1, 0]]\n"
     ]
    }
   ],
   "source": [
    "# Return corresponding instance sets\n",
    "def is_instance(x, I):\n",
    "    return all([x[j] == 1 for j in I])\n",
    "\n",
    "def all_instances(X, I):\n",
    "    return [x for x in X if is_instance(x, I)]\n",
    "\n",
    "print(all_instances(X, I1))\n",
    "print(all_instances(X, I2))\n",
    "print(all_instances(X, I3))"
   ]
  },
  {
   "cell_type": "code",
   "execution_count": 34,
   "metadata": {},
   "outputs": [
    {
     "name": "stdout",
     "output_type": "stream",
     "text": [
      "0.16666666666666666\n",
      "0.0\n",
      "0.3333333333333333\n"
     ]
    }
   ],
   "source": [
    "def support(X, I):\n",
    "    return len(all_instances(X, I))/len(X)\n",
    "print(support(X, I1))\n",
    "print(support(X, I2))\n",
    "print(support(X, I3))\n"
   ]
  },
  {
   "cell_type": "code",
   "execution_count": 35,
   "metadata": {},
   "outputs": [
    {
     "name": "stdout",
     "output_type": "stream",
     "text": [
      "[[1, 1, 0, 0, 0, 0, 0]]\n",
      "[]\n",
      "[[1, 0, 1, 0, 1, 0, 0], [1, 0, 1, 0, 0, 1, 0]]\n",
      "False\n"
     ]
    }
   ],
   "source": [
    "def is_frequent_itemset(X, L, sigma):\n",
    "    return all([support(X, I) >= sigma for I in L])\n",
    "\n",
    "print(all_instances(X, I1))\n",
    "print(all_instances(X, I2))\n",
    "print(all_instances(X, I3))\n",
    "\n",
    "frequent_2_item_set_L2 = [I1, I2, I3]\n",
    "\n",
    "print(is_frequent_itemset(X, frequent_2_item_set_L2, 1/6))"
   ]
  },
  {
   "cell_type": "code",
   "execution_count": 36,
   "metadata": {},
   "outputs": [
    {
     "name": "stdout",
     "output_type": "stream",
     "text": [
      "[[0], [2], [4], [5], [6]]\n",
      "start loop with k=2 and L=[[[0], [2], [4], [5], [6]]]\n",
      "before Apriori-Check C=[[0, 2], [0, 4], [0, 5], [0, 6], [2, 4], [2, 5], [2, 6], [4, 5], [4, 6], [5, 6]]\n",
      "after Apriori-Check C=[[0, 2], [0, 4], [0, 5], [0, 6], [2, 4], [2, 5], [2, 6], [4, 5], [4, 6], [5, 6]]\n",
      "start loop with k=3 and L=[[[0], [2], [4], [5], [6]], [[0, 2], [0, 4], [2, 5], [5, 6]]]\n",
      "before Apriori-Check C=[[0, 2, 4], [0, 2, 5], [0, 2, 6], [0, 4, 5], [0, 4, 6], [2, 4, 5], [2, 5, 6], [0, 5, 6], [4, 5, 6]]\n",
      "after Apriori-Check C=[]\n",
      "[[0], [2], [4], [5], [6], [0, 2], [0, 4], [2, 5], [5, 6]]\n",
      "[[0], [2], [5]]\n",
      "start loop with k=2 and L=[[[0], [2], [5]]]\n",
      "before Apriori-Check C=[[0, 2], [0, 5], [2, 5]]\n",
      "after Apriori-Check C=[[0, 2], [0, 5], [2, 5]]\n",
      "[[0], [2], [5]]\n",
      "[]\n",
      "start loop with k=2 and L=[[]]\n",
      "before Apriori-Check C=[]\n",
      "after Apriori-Check C=[]\n",
      "[]\n"
     ]
    }
   ],
   "source": [
    "def getLabels(itemset, labels):\n",
    "    return [labels[i] for i in itemset]\n",
    "\n",
    "def hasAprioriProperty(c, Llast):\n",
    "    for item in c:\n",
    "        d = c[:]\n",
    "        d.remove(item)\n",
    "        if d not in Llast:\n",
    "            return False\n",
    "    return True\n",
    "\n",
    "def aPriori(X, sigma, verbose=True):\n",
    "    L1 = [[i] for i in range(len(X[0])) if support(X, [i]) >= sigma]\n",
    "    print(L1)\n",
    "    L = [L1]\n",
    "    for k in range(2, len(X[0]) + 1):\n",
    "        if verbose:\n",
    "            print('start loop with k=%d and L=%s' %(k, L))\n",
    "        C = [sorted(a + b) for a in L[-1] for b in L1 if b[0] not in a]\n",
    "        C = [c for i, c in enumerate(C) if c not in C[:i]]    # remove duplicates, because we use lists instead of sets\n",
    "        if verbose:\n",
    "            print('before Apriori-Check C=%s' %C)\n",
    "        C = [c for c in C if hasAprioriProperty(c, L[-1])]\n",
    "        if verbose:\n",
    "            print('after Apriori-Check C=%s' %C)\n",
    "        Csigma = dict([(tuple(c), 0.0) for c in C])\n",
    "        for x in X:\n",
    "            Ct = [c for c in C if is_instance(x, c)]\n",
    "            for c in Ct:\n",
    "                Csigma[tuple(c)] += 1/len(X)\n",
    "        C = [c for c in C if Csigma[tuple(c)] >= sigma]\n",
    "        if len(C) == 0:\n",
    "            break\n",
    "        L += [C]       \n",
    "    return [c for Lk in L for c in Lk ]\n",
    "\n",
    "print(aPriori(X, 0.3))\n",
    "print(aPriori(X, 0.5))\n",
    "print(aPriori(X, 0.7))    "
   ]
  },
  {
   "cell_type": "code",
   "execution_count": 37,
   "metadata": {},
   "outputs": [
    {
     "name": "stdout",
     "output_type": "stream",
     "text": [
      "[[0], [1], [3], [4], [5]]\n",
      "start loop with k=2 and L=[[[0], [1], [3], [4], [5]]]\n",
      "before Apriori-Check C=[[0, 1], [0, 3], [0, 4], [0, 5], [1, 3], [1, 4], [1, 5], [3, 4], [3, 5], [4, 5]]\n",
      "after Apriori-Check C=[[0, 1], [0, 3], [0, 4], [0, 5], [1, 3], [1, 4], [1, 5], [3, 4], [3, 5], [4, 5]]\n",
      "start loop with k=3 and L=[[[0], [1], [3], [4], [5]], [[0, 3], [1, 3], [1, 4], [3, 4], [3, 5]]]\n",
      "before Apriori-Check C=[[0, 1, 3], [0, 3, 4], [0, 3, 5], [1, 3, 4], [1, 3, 5], [0, 1, 4], [1, 4, 5], [3, 4, 5]]\n",
      "after Apriori-Check C=[[1, 3, 4]]\n",
      "start loop with k=4 and L=[[[0], [1], [3], [4], [5]], [[0, 3], [1, 3], [1, 4], [3, 4], [3, 5]], [[1, 3, 4]]]\n",
      "before Apriori-Check C=[[0, 1, 3, 4], [1, 3, 4, 5]]\n",
      "after Apriori-Check C=[]\n",
      "[[0], [1], [3], [4], [5], [0, 3], [1, 3], [1, 4], [3, 4], [3, 5], [1, 3, 4]]\n",
      "[['A'], ['B'], ['D'], ['E'], ['F'], ['A', 'D'], ['B', 'D'], ['B', 'E'], ['D', 'E'], ['D', 'F'], ['B', 'D', 'E']]\n"
     ]
    }
   ],
   "source": [
    "# Example from the board\n",
    "names = ['A', 'B', 'C', 'D', 'E', 'F', 'G', 'H', 'I', 'J', 'K']\n",
    "X     = [[1,   0,   0,   1,   1,   0,   0,   1,   0,   0,   0],\n",
    "         [1,   0,   0,   1,   0,   1,   0,   0,   1,   1,   0],\n",
    "         [0,   1,   1,   1,   1,   1,   1,   0,   0,   0,   0],\n",
    "         [1,   1,   1,   1,   1,   1,   0,   0,   0,   0,   0],\n",
    "         [0,   1,   0,   1,   1,   0,   0,   0,   0,   1,   1]]\n",
    "L = aPriori(X, 3/5)\n",
    "L_names = [getLabels(itemset, names) for itemset in L]\n",
    "print(L)\n",
    "print(L_names)"
   ]
  },
  {
   "cell_type": "code",
   "execution_count": 7,
   "metadata": {},
   "outputs": [
    {
     "name": "stdout",
     "output_type": "stream",
     "text": [
      "[[0], [1], [2], [3], [4], [0, 1], [0, 2], [0, 4], [1, 2], [1, 3], [1, 4], [0, 1, 2], [0, 1, 4]]\n"
     ]
    }
   ],
   "source": [
    "# Example from Lecture p. 21\n",
    "names = ['I1', 'I2', 'I3', 'I4', 'I5']\n",
    "X     = [[1,    1,    0,    0,    1],\n",
    "         [0,    1,    0,    1,    0],\n",
    "         [0,    1,    1,    0,    0],\n",
    "         [1,    1,    0,    1,    0],\n",
    "         [1,    0,    1,    0,    0],\n",
    "         [0,    1,    1,    0,    0],\n",
    "         [1,    0,    1,    0,    0],\n",
    "         [1,    1,    1,    0,    1],\n",
    "         [1,    1,    1,    0,    0]]\n",
    "\n",
    "print(aPriori(X, 2/9))"
   ]
  }
 ],
 "metadata": {
  "anaconda-cloud": {},
  "kernelspec": {
   "display_name": "Python 3",
   "language": "python",
   "name": "python3"
  },
  "language_info": {
   "codemirror_mode": {
    "name": "ipython",
    "version": 3
   },
   "file_extension": ".py",
   "mimetype": "text/x-python",
   "name": "python",
   "nbconvert_exporter": "python",
   "pygments_lexer": "ipython3",
   "version": "3.6.1"
  },
  "toc": {
   "colors": {
    "hover_highlight": "#DAA520",
    "running_highlight": "#FF0000",
    "selected_highlight": "#FFD700"
   },
   "moveMenuLeft": true,
   "nav_menu": {
    "height": "78px",
    "width": "252px"
   },
   "navigate_menu": true,
   "number_sections": true,
   "sideBar": true,
   "threshold": 4,
   "toc_cell": false,
   "toc_section_display": "block",
   "toc_window_display": false
  }
 },
 "nbformat": 4,
 "nbformat_minor": 1
}
